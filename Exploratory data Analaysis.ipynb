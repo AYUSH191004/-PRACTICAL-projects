{
 "cells": [
  {
   "cell_type": "code",
   "execution_count": 1,
   "id": "20bbe73a-a540-4ec2-ad7c-28d60861725c",
   "metadata": {},
   "outputs": [],
   "source": [
    "import pandas as pd   #importing essential libraries\n",
    "import numpy as np"
   ]
  },
  {
   "cell_type": "code",
   "execution_count": 2,
   "id": "d774a504-9655-40c5-86e9-fb9bc388e92f",
   "metadata": {},
   "outputs": [],
   "source": [
    "data={'NAME':['MAHESH','SURESH','DIVANSH','AJAY','RAM'],    #example dataset\n",
    "    'Math_score':['89','90','95','78','100'],\n",
    "     'Science_score':['98','87','89','99','100'],\n",
    "     'English_score':['99','88','98','90','89'],\n",
    "     'Hindi_score':['100','98','99','89','98'],}"
   ]
  },
  {
   "cell_type": "code",
   "execution_count": 12,
   "id": "7e03c576-97eb-49ed-b46e-c62f60b24d30",
   "metadata": {},
   "outputs": [],
   "source": [
    "df=pd.DataFrame(data)     #dataframing\n",
    "df.index=[1,2,3,4,5]     #reindexing properly"
   ]
  },
  {
   "cell_type": "code",
   "execution_count": 13,
   "id": "b5b3851a-7f96-4e27-8bec-7b54e4a49c4f",
   "metadata": {},
   "outputs": [],
   "source": [
    "df['Math_score']=pd.to_numeric(df['Math_score'])   #converting object datatye to integer datatype\n",
    "df['Science_score']=pd.to_numeric(df['Science_score'])\n",
    "df['English_score']=pd.to_numeric(df['English_score'])\n",
    "df['Hindi_score']=pd.to_numeric(df['Hindi_score'])"
   ]
  },
  {
   "cell_type": "code",
   "execution_count": 14,
   "id": "c63efede-0d0a-449e-aebc-062dc5ece145",
   "metadata": {},
   "outputs": [],
   "source": [
    "df['TOTALSCORE']=df.iloc[:,1:5].sum(axis=1)    # creatibng new coloumn of totalscore\n",
    "df['AVERAGESCORE']=df.iloc[:,1:5].mean(axis=1)   # creating new coloumn of average score"
   ]
  },
  {
   "cell_type": "code",
   "execution_count": 15,
   "id": "1d6c085d-cace-479f-ac17-b03aa71a4816",
   "metadata": {},
   "outputs": [
    {
     "data": {
      "text/html": [
       "<div>\n",
       "<style scoped>\n",
       "    .dataframe tbody tr th:only-of-type {\n",
       "        vertical-align: middle;\n",
       "    }\n",
       "\n",
       "    .dataframe tbody tr th {\n",
       "        vertical-align: top;\n",
       "    }\n",
       "\n",
       "    .dataframe thead th {\n",
       "        text-align: right;\n",
       "    }\n",
       "</style>\n",
       "<table border=\"1\" class=\"dataframe\">\n",
       "  <thead>\n",
       "    <tr style=\"text-align: right;\">\n",
       "      <th></th>\n",
       "      <th>NAME</th>\n",
       "      <th>Math_score</th>\n",
       "      <th>Science_score</th>\n",
       "      <th>English_score</th>\n",
       "      <th>Hindi_score</th>\n",
       "      <th>TOTALSCORE</th>\n",
       "      <th>AVERAGESCORE</th>\n",
       "    </tr>\n",
       "  </thead>\n",
       "  <tbody>\n",
       "    <tr>\n",
       "      <th>1</th>\n",
       "      <td>MAHESH</td>\n",
       "      <td>89</td>\n",
       "      <td>98</td>\n",
       "      <td>99</td>\n",
       "      <td>100</td>\n",
       "      <td>386</td>\n",
       "      <td>96.50</td>\n",
       "    </tr>\n",
       "    <tr>\n",
       "      <th>2</th>\n",
       "      <td>SURESH</td>\n",
       "      <td>90</td>\n",
       "      <td>87</td>\n",
       "      <td>88</td>\n",
       "      <td>98</td>\n",
       "      <td>363</td>\n",
       "      <td>90.75</td>\n",
       "    </tr>\n",
       "    <tr>\n",
       "      <th>3</th>\n",
       "      <td>DIVANSH</td>\n",
       "      <td>95</td>\n",
       "      <td>89</td>\n",
       "      <td>98</td>\n",
       "      <td>99</td>\n",
       "      <td>381</td>\n",
       "      <td>95.25</td>\n",
       "    </tr>\n",
       "    <tr>\n",
       "      <th>4</th>\n",
       "      <td>AJAY</td>\n",
       "      <td>78</td>\n",
       "      <td>99</td>\n",
       "      <td>90</td>\n",
       "      <td>89</td>\n",
       "      <td>356</td>\n",
       "      <td>89.00</td>\n",
       "    </tr>\n",
       "    <tr>\n",
       "      <th>5</th>\n",
       "      <td>RAM</td>\n",
       "      <td>100</td>\n",
       "      <td>100</td>\n",
       "      <td>89</td>\n",
       "      <td>98</td>\n",
       "      <td>387</td>\n",
       "      <td>96.75</td>\n",
       "    </tr>\n",
       "  </tbody>\n",
       "</table>\n",
       "</div>"
      ],
      "text/plain": [
       "      NAME  Math_score  Science_score  English_score  Hindi_score  TOTALSCORE  \\\n",
       "1   MAHESH          89             98             99          100         386   \n",
       "2   SURESH          90             87             88           98         363   \n",
       "3  DIVANSH          95             89             98           99         381   \n",
       "4     AJAY          78             99             90           89         356   \n",
       "5      RAM         100            100             89           98         387   \n",
       "\n",
       "   AVERAGESCORE  \n",
       "1         96.50  \n",
       "2         90.75  \n",
       "3         95.25  \n",
       "4         89.00  \n",
       "5         96.75  "
      ]
     },
     "execution_count": 15,
     "metadata": {},
     "output_type": "execute_result"
    }
   ],
   "source": [
    "df   #dataframe print"
   ]
  },
  {
   "cell_type": "code",
   "execution_count": 17,
   "id": "1faeb106-1f82-4d7e-9caf-7af3ccf03043",
   "metadata": {},
   "outputs": [],
   "source": [
    "highest_score_df=df.loc[df['TOTALSCORE'].idxmax()]    #highest total score"
   ]
  },
  {
   "cell_type": "code",
   "execution_count": 18,
   "id": "2da751c5-56a5-46dd-9e65-bb6076b0aeef",
   "metadata": {},
   "outputs": [
    {
     "data": {
      "text/plain": [
       "NAME               RAM\n",
       "Math_score         100\n",
       "Science_score      100\n",
       "English_score       89\n",
       "Hindi_score         98\n",
       "TOTALSCORE         387\n",
       "AVERAGESCORE     96.75\n",
       "Name: 5, dtype: object"
      ]
     },
     "execution_count": 18,
     "metadata": {},
     "output_type": "execute_result"
    }
   ],
   "source": [
    "highest_score_df  # student details of highest score"
   ]
  },
  {
   "cell_type": "code",
   "execution_count": 27,
   "id": "31d2ddbe-4d41-4329-bd84-a8a785f8adf2",
   "metadata": {},
   "outputs": [],
   "source": [
    "Average_score=df.iloc[:,[0,6]]    ##average score"
   ]
  },
  {
   "cell_type": "code",
   "execution_count": 28,
   "id": "3d5e0509-04f9-467f-a8b5-b6794fdefbdd",
   "metadata": {},
   "outputs": [
    {
     "data": {
      "text/html": [
       "<div>\n",
       "<style scoped>\n",
       "    .dataframe tbody tr th:only-of-type {\n",
       "        vertical-align: middle;\n",
       "    }\n",
       "\n",
       "    .dataframe tbody tr th {\n",
       "        vertical-align: top;\n",
       "    }\n",
       "\n",
       "    .dataframe thead th {\n",
       "        text-align: right;\n",
       "    }\n",
       "</style>\n",
       "<table border=\"1\" class=\"dataframe\">\n",
       "  <thead>\n",
       "    <tr style=\"text-align: right;\">\n",
       "      <th></th>\n",
       "      <th>NAME</th>\n",
       "      <th>AVERAGESCORE</th>\n",
       "    </tr>\n",
       "  </thead>\n",
       "  <tbody>\n",
       "    <tr>\n",
       "      <th>1</th>\n",
       "      <td>MAHESH</td>\n",
       "      <td>96.50</td>\n",
       "    </tr>\n",
       "    <tr>\n",
       "      <th>2</th>\n",
       "      <td>SURESH</td>\n",
       "      <td>90.75</td>\n",
       "    </tr>\n",
       "    <tr>\n",
       "      <th>3</th>\n",
       "      <td>DIVANSH</td>\n",
       "      <td>95.25</td>\n",
       "    </tr>\n",
       "    <tr>\n",
       "      <th>4</th>\n",
       "      <td>AJAY</td>\n",
       "      <td>89.00</td>\n",
       "    </tr>\n",
       "    <tr>\n",
       "      <th>5</th>\n",
       "      <td>RAM</td>\n",
       "      <td>96.75</td>\n",
       "    </tr>\n",
       "  </tbody>\n",
       "</table>\n",
       "</div>"
      ],
      "text/plain": [
       "      NAME  AVERAGESCORE\n",
       "1   MAHESH         96.50\n",
       "2   SURESH         90.75\n",
       "3  DIVANSH         95.25\n",
       "4     AJAY         89.00\n",
       "5      RAM         96.75"
      ]
     },
     "execution_count": 28,
     "metadata": {},
     "output_type": "execute_result"
    }
   ],
   "source": [
    "Average_score    ## printing of avra"
   ]
  },
  {
   "cell_type": "code",
   "execution_count": null,
   "id": "77206692-246e-45ce-bde2-e29cf97e4792",
   "metadata": {},
   "outputs": [],
   "source": []
  }
 ],
 "metadata": {
  "kernelspec": {
   "display_name": "Python 3 (ipykernel)",
   "language": "python",
   "name": "python3"
  },
  "language_info": {
   "codemirror_mode": {
    "name": "ipython",
    "version": 3
   },
   "file_extension": ".py",
   "mimetype": "text/x-python",
   "name": "python",
   "nbconvert_exporter": "python",
   "pygments_lexer": "ipython3",
   "version": "3.12.0"
  }
 },
 "nbformat": 4,
 "nbformat_minor": 5
}
